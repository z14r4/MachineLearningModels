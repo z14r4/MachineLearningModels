{
 "cells": [
  {
   "cell_type": "code",
   "execution_count": 1,
   "id": "ce46eedf-078c-4623-8a94-459ca2eb0173",
   "metadata": {},
   "outputs": [],
   "source": [
    "import numpy as np\n",
    "import pandas as pd\n",
    "import seaborn as sns\n",
    "import matplotlib.pyplot as plt\n",
    "import statsmodels.api as sm\n",
    "import statsmodels.formula.api as smf\n",
    "\n",
    "from sklearn.metrics import r2_score, mean_absolute_error\n",
    "from sklearn.metrics import classification_report\n",
    "\n",
    "%matplotlib inline"
   ]
  },
  {
   "cell_type": "markdown",
   "id": "abbf90a5",
   "metadata": {},
   "source": [
    "# Loading Data + Splitting\n",
    "\n",
    "X = all columns except what we are trying to predict\n",
    "\n",
    "y = column we are trying to predict\n",
    "\n",
    "We split our dataset into a test and train set. We use the train set to train our model, meaning "
   ]
  },
  {
   "cell_type": "code",
   "execution_count": 2,
   "id": "ad1be43f",
   "metadata": {},
   "outputs": [],
   "source": [
    "from sklearn.model_selection import train_test_split\n",
    "\n",
    "#This function will split the dataset into training and testing sets\n",
    "def split(dataset, target_col):\n",
    "    data_train, data_test = train_test_split(dataset, test_size=0.2, random_state=4, shuffle=True)\n",
    "\n",
    "    #X_train = sm.add_constant(data_train.drop(columns=[target_col]))\n",
    "    X_train = data_train.drop(columns=[target_col])\n",
    "    y_train = data_train[target_col]\n",
    "\n",
    "    #X_test = sm.add_constant(data_test.drop(columns=[target_col]))\n",
    "    X_test = data_test.drop(columns=[target_col])\n",
    "    y_test = data_test[target_col]\n",
    "    return X_train, X_test, y_train, y_test"
   ]
  },
  {
   "cell_type": "markdown",
   "id": "0f322990",
   "metadata": {},
   "source": [
    "The next dataset we will be using is the wine quality database from the 1990 Ashenfelter wine predictions. In this dataset, we are measuring:\n",
    "wine quality"
   ]
  },
  {
   "cell_type": "code",
   "execution_count": 3,
   "id": "dbc89aa6",
   "metadata": {},
   "outputs": [
    {
     "data": {
      "text/html": [
       "<div>\n",
       "<style scoped>\n",
       "    .dataframe tbody tr th:only-of-type {\n",
       "        vertical-align: middle;\n",
       "    }\n",
       "\n",
       "    .dataframe tbody tr th {\n",
       "        vertical-align: top;\n",
       "    }\n",
       "\n",
       "    .dataframe thead th {\n",
       "        text-align: right;\n",
       "    }\n",
       "</style>\n",
       "<table border=\"1\" class=\"dataframe\">\n",
       "  <thead>\n",
       "    <tr style=\"text-align: right;\">\n",
       "      <th></th>\n",
       "      <th>Year</th>\n",
       "      <th>WinterRain</th>\n",
       "      <th>HarvestRain</th>\n",
       "      <th>GrowTemp</th>\n",
       "      <th>HarvestTemp</th>\n",
       "      <th>Age</th>\n",
       "      <th>FrancePop</th>\n",
       "      <th>USAlcConsump</th>\n",
       "    </tr>\n",
       "  </thead>\n",
       "  <tbody>\n",
       "    <tr>\n",
       "      <th>22</th>\n",
       "      <td>1977</td>\n",
       "      <td>755.2</td>\n",
       "      <td>87.3</td>\n",
       "      <td>15.92</td>\n",
       "      <td>17.24</td>\n",
       "      <td>38</td>\n",
       "      <td>53.15</td>\n",
       "      <td>10.47</td>\n",
       "    </tr>\n",
       "    <tr>\n",
       "      <th>37</th>\n",
       "      <td>1992</td>\n",
       "      <td>487.8</td>\n",
       "      <td>341.6</td>\n",
       "      <td>18.00</td>\n",
       "      <td>17.34</td>\n",
       "      <td>23</td>\n",
       "      <td>57.24</td>\n",
       "      <td>8.47</td>\n",
       "    </tr>\n",
       "    <tr>\n",
       "      <th>12</th>\n",
       "      <td>1967</td>\n",
       "      <td>646.9</td>\n",
       "      <td>118.1</td>\n",
       "      <td>16.51</td>\n",
       "      <td>17.16</td>\n",
       "      <td>48</td>\n",
       "      <td>49.55</td>\n",
       "      <td>9.03</td>\n",
       "    </tr>\n",
       "    <tr>\n",
       "      <th>42</th>\n",
       "      <td>1997</td>\n",
       "      <td>460.5</td>\n",
       "      <td>112.2</td>\n",
       "      <td>19.10</td>\n",
       "      <td>19.96</td>\n",
       "      <td>18</td>\n",
       "      <td>58.21</td>\n",
       "      <td>8.07</td>\n",
       "    </tr>\n",
       "    <tr>\n",
       "      <th>26</th>\n",
       "      <td>1981</td>\n",
       "      <td>497.8</td>\n",
       "      <td>110.9</td>\n",
       "      <td>17.28</td>\n",
       "      <td>18.54</td>\n",
       "      <td>34</td>\n",
       "      <td>54.18</td>\n",
       "      <td>10.95</td>\n",
       "    </tr>\n",
       "  </tbody>\n",
       "</table>\n",
       "</div>"
      ],
      "text/plain": [
       "    Year  WinterRain  HarvestRain  GrowTemp  HarvestTemp  Age  FrancePop  \\\n",
       "22  1977       755.2         87.3     15.92        17.24   38      53.15   \n",
       "37  1992       487.8        341.6     18.00        17.34   23      57.24   \n",
       "12  1967       646.9        118.1     16.51        17.16   48      49.55   \n",
       "42  1997       460.5        112.2     19.10        19.96   18      58.21   \n",
       "26  1981       497.8        110.9     17.28        18.54   34      54.18   \n",
       "\n",
       "    USAlcConsump  \n",
       "22         10.47  \n",
       "37          8.47  \n",
       "12          9.03  \n",
       "42          8.07  \n",
       "26         10.95  "
      ]
     },
     "execution_count": 3,
     "metadata": {},
     "output_type": "execute_result"
    }
   ],
   "source": [
    "#Import dataset\n",
    "wine_data = pd.read_csv(\"142a/Datasets/wine_agg.csv\")\n",
    "\n",
    "X_train_w, X_test_w, y_train_w, y_test_w = split(wine_data, \"LogAuctionIndex\")\n",
    "X_train_w.head()"
   ]
  },
  {
   "cell_type": "markdown",
   "id": "2c2a9a23",
   "metadata": {},
   "source": [
    "Next we will be loading in the diabetes dataset from the UCI Machine Learning Repository.\n",
    "This is a dataset where the outcome is:\n",
    "\n",
    "0. If diabetes was not detected in the patient.\n",
    "1. If diabetes was detected.\n",
    "\n",
    "So we will be using this for our __Classification Models__"
   ]
  },
  {
   "cell_type": "code",
   "execution_count": 4,
   "id": "1bdae511-0935-44f6-9a0a-efc11513e54e",
   "metadata": {},
   "outputs": [
    {
     "data": {
      "text/html": [
       "<div>\n",
       "<style scoped>\n",
       "    .dataframe tbody tr th:only-of-type {\n",
       "        vertical-align: middle;\n",
       "    }\n",
       "\n",
       "    .dataframe tbody tr th {\n",
       "        vertical-align: top;\n",
       "    }\n",
       "\n",
       "    .dataframe thead th {\n",
       "        text-align: right;\n",
       "    }\n",
       "</style>\n",
       "<table border=\"1\" class=\"dataframe\">\n",
       "  <thead>\n",
       "    <tr style=\"text-align: right;\">\n",
       "      <th></th>\n",
       "      <th>Pregnancies</th>\n",
       "      <th>Glucose</th>\n",
       "      <th>BloodPressure</th>\n",
       "      <th>SkinThickness</th>\n",
       "      <th>Insulin</th>\n",
       "      <th>BMI</th>\n",
       "      <th>DiabetesPedigreeFunction</th>\n",
       "      <th>Age</th>\n",
       "    </tr>\n",
       "  </thead>\n",
       "  <tbody>\n",
       "    <tr>\n",
       "      <th>596</th>\n",
       "      <td>0</td>\n",
       "      <td>67</td>\n",
       "      <td>76</td>\n",
       "      <td>0</td>\n",
       "      <td>0</td>\n",
       "      <td>45.3</td>\n",
       "      <td>0.194</td>\n",
       "      <td>46</td>\n",
       "    </tr>\n",
       "    <tr>\n",
       "      <th>90</th>\n",
       "      <td>1</td>\n",
       "      <td>80</td>\n",
       "      <td>55</td>\n",
       "      <td>0</td>\n",
       "      <td>0</td>\n",
       "      <td>19.1</td>\n",
       "      <td>0.258</td>\n",
       "      <td>21</td>\n",
       "    </tr>\n",
       "    <tr>\n",
       "      <th>734</th>\n",
       "      <td>2</td>\n",
       "      <td>105</td>\n",
       "      <td>75</td>\n",
       "      <td>0</td>\n",
       "      <td>0</td>\n",
       "      <td>23.3</td>\n",
       "      <td>0.560</td>\n",
       "      <td>53</td>\n",
       "    </tr>\n",
       "    <tr>\n",
       "      <th>694</th>\n",
       "      <td>2</td>\n",
       "      <td>90</td>\n",
       "      <td>60</td>\n",
       "      <td>0</td>\n",
       "      <td>0</td>\n",
       "      <td>23.5</td>\n",
       "      <td>0.191</td>\n",
       "      <td>25</td>\n",
       "    </tr>\n",
       "    <tr>\n",
       "      <th>517</th>\n",
       "      <td>7</td>\n",
       "      <td>125</td>\n",
       "      <td>86</td>\n",
       "      <td>0</td>\n",
       "      <td>0</td>\n",
       "      <td>37.6</td>\n",
       "      <td>0.304</td>\n",
       "      <td>51</td>\n",
       "    </tr>\n",
       "  </tbody>\n",
       "</table>\n",
       "</div>"
      ],
      "text/plain": [
       "     Pregnancies  Glucose  BloodPressure  SkinThickness  Insulin   BMI  \\\n",
       "596            0       67             76              0        0  45.3   \n",
       "90             1       80             55              0        0  19.1   \n",
       "734            2      105             75              0        0  23.3   \n",
       "694            2       90             60              0        0  23.5   \n",
       "517            7      125             86              0        0  37.6   \n",
       "\n",
       "     DiabetesPedigreeFunction  Age  \n",
       "596                     0.194   46  \n",
       "90                      0.258   21  \n",
       "734                     0.560   53  \n",
       "694                     0.191   25  \n",
       "517                     0.304   51  "
      ]
     },
     "execution_count": 4,
     "metadata": {},
     "output_type": "execute_result"
    }
   ],
   "source": [
    "#Import dataset\n",
    "diabetes_data = pd.read_csv(\"142a/Datasets/diabetes_dataset.csv\")\n",
    "\n",
    "X_train_d, X_test_d, y_train_d, y_test_d = split(diabetes_data, \"Outcome\")\n",
    "X_train_d.head()"
   ]
  },
  {
   "cell_type": "markdown",
   "id": "17175475",
   "metadata": {},
   "source": [
    "# VIFs\n",
    "\n",
    "### Multicolinearity\n",
    "- Occurs when two or more predictors are highly correlated\n",
    "- Makes the estimated coefficients $\\hat{\\beta} = (\\hat{\\beta_0}, \\hat{\\beta_1}, \\ldots , \\hat{\\beta_p})$ very sensitive to noise in the training data\n",
    "  - Thus can produce very inaccurate estimates which hurts interpretability and possibly predictive performance\n",
    "- Tell-tale signs:\n",
    "  - Some of the estimated coefficients have the “wrong” sign\n",
    "  - Some of the coefficients are not significantly different from zero\n",
    "- Multicollinearity can usually be fixed by deleting one or more independent variables\n",
    "\n",
    "\n",
    "Higher values of VIF imply that the variable is colinear with other features in the dataset. We can use these values to decide which variables to delete from our model!\n",
    "\n",
    "### Variance Inflation Factor (VIF)\n",
    "Even before we start training or testing a model, we can measure the colinearity \n",
    "\n",
    "- Consider regressing each predictor variable $X_j$ on all of the others:\n",
    "  $$\n",
    "  X_j = \\alpha_0 + \\alpha_1 X_1 + \\ldots + \\alpha_{j-1}X_{j-1} + \\alpha_{j+1}X_{j+1} + \\ldots + \\alpha_p X_p\n",
    "  $$\n",
    "- If the $R^2$ for the above (call it $R^2_j$) is equal to 1, then there exists a perfect linear relationship between $X_j$ \n",
    "  and all other independent variables according to the training data\n",
    "- So, define:\n",
    "  $$\n",
    "  \\text{VIF}_j = \\frac{1}{1 - R^2_j}\n",
    "  $$"
   ]
  },
  {
   "cell_type": "code",
   "execution_count": 5,
   "id": "7c48547b",
   "metadata": {},
   "outputs": [],
   "source": [
    "from statsmodels.stats.outliers_influence import variance_inflation_factor"
   ]
  },
  {
   "cell_type": "code",
   "execution_count": 6,
   "id": "0dbf8d2b-6a8f-4935-b5ed-db79cc7924bd",
   "metadata": {},
   "outputs": [],
   "source": [
    "#Look at VIFs for each feature of a dataset\n",
    "def vifs(X_train):\n",
    "    vif_data = pd.DataFrame()\n",
    "    vif_data[\"feature\"] = X_train.columns[1:len(X_train.columns)]  # Exclude the constant column\n",
    "    vif_data[\"VIF\"] = [variance_inflation_factor(X_train.values, i+1) for i in range(6)]\n",
    "    return vif_data"
   ]
  },
  {
   "cell_type": "markdown",
   "id": "0267328b",
   "metadata": {},
   "source": [
    "# Creating a Base Model\n",
    "Steps to creating a model:\n",
    "1. Initialize the model.\n",
    "\n",
    "We initialize the model by calling it from SKLearn's library and assigning it to a variable!\n",
    "\n",
    "2. Train the model.\n",
    "\n",
    "The fit() function in both StatsModels and SKLearn is used to train the model based on the data we are passing into it.\n",
    "We ONLY use our training data for training the model.\n",
    "We will see later another way to increase accuracy in our dataset by accounting for bias.\n",
    "\n",
    "3. Test the model on the test set.\n",
    "\n",
    "The train() function does this!\n",
    "\n",
    "\n",
    "There are many different types of models to choose from when analyzing data. Each has their own benefits that will be explained below.\n",
    "#### Regression Models:\n",
    "If predicting a continuous response variable. Examples: Housing prices, weather.\n",
    "\n",
    "Ex: Linear Regression, \n",
    "\n",
    "#### Classification Models:\n",
    "If predicting a yes/no outcome. Examples: Identify spam emails, spot cancer cells, \n",
    "\n",
    "Ex: Logistic Regression, K-Nearest Neighbors, "
   ]
  },
  {
   "cell_type": "markdown",
   "id": "8e71e1fc",
   "metadata": {},
   "source": [
    "## Linear Regression Models\n",
    "\n",
    "Linear Regression can be performed with a few different types of regression models. These include: Ordinary Least Squares, Least Absolute Deviations, Ridge, "
   ]
  },
  {
   "cell_type": "markdown",
   "id": "6f83e2b6",
   "metadata": {},
   "source": [
    "### Ordinary Least Squares"
   ]
  },
  {
   "cell_type": "markdown",
   "id": "135a75b5",
   "metadata": {},
   "source": [
    "#### Using SciKitLearn\n",
    "Use SciKitLearn for better model accuracy & faster computations."
   ]
  },
  {
   "cell_type": "code",
   "execution_count": 7,
   "id": "64a64025",
   "metadata": {},
   "outputs": [],
   "source": [
    "from sklearn.linear_model import LinearRegression\n",
    "\n",
    "# Initialize the model\n",
    "ols_model = LinearRegression()\n",
    "\n",
    "# Fit the model (assuming X_train and y_train are your training data)\n",
    "ols_model.fit(X_train_w, y_train_w)\n",
    "\n",
    "# Predict using the model\n",
    "y_pred_ols = ols_model.predict(X_test_w)"
   ]
  },
  {
   "cell_type": "markdown",
   "id": "d615028f",
   "metadata": {},
   "source": [
    "### Ridge "
   ]
  },
  {
   "cell_type": "code",
   "execution_count": 8,
   "id": "d1f49c85",
   "metadata": {},
   "outputs": [],
   "source": [
    "from sklearn.linear_model import Ridge\n",
    "\n",
    "# Initialize the model (alpha controls regularization strength)\n",
    "ridge_model = Ridge(alpha=1.0)\n",
    "\n",
    "# Fit the model\n",
    "ridge_model.fit(X_train_w, y_train_w)\n",
    "\n",
    "# Predict using the model\n",
    "y_pred_ridge = ridge_model.predict(X_test_w)\n"
   ]
  },
  {
   "cell_type": "markdown",
   "id": "52a2e2a2",
   "metadata": {},
   "source": [
    "## Model Evaluation\n",
    "We can make regression models interpretable by getting some values from it. Here, we will calculate our Mean Squared Error (R^2). This takes the difference between every prediction on and the actual result from the test set, then takes the mean of those differences and squares it."
   ]
  },
  {
   "cell_type": "code",
   "execution_count": 9,
   "id": "b5b0e5a9",
   "metadata": {},
   "outputs": [
    {
     "name": "stdout",
     "output_type": "stream",
     "text": [
      "Mean Squared Error OLS: 0.7244691423337968\n",
      "Mean Squared Error Ridge: 0.7181167964358038\n"
     ]
    }
   ],
   "source": [
    "# Calculate R-squared for OLS\n",
    "r_squared_ols = r2_score(y_test_w, y_pred_ols)\n",
    "r_squared_ols\n",
    "\n",
    "# Calculate R-squared for Ridge\n",
    "r_squared_ridge = r2_score(y_test_w, y_pred_ridge)\n",
    "r_squared_ridge\n",
    "\n",
    "print(\"Mean Squared Error OLS: \" + str(r_squared_ols) + \"\\nMean Squared Error Ridge: \" + str(r_squared_ridge))"
   ]
  },
  {
   "cell_type": "markdown",
   "id": "b2fc4dfc",
   "metadata": {},
   "source": [
    "# Classification Models\n",
    "Classification modeling: logistic regression, linear discrimative analysis, KNN, and CART.\n",
    "\n",
    "### Logistic Regression\n",
    "\n"
   ]
  },
  {
   "cell_type": "markdown",
   "id": "d4b3ae86",
   "metadata": {},
   "source": [
    "#### Using SciKitLearn"
   ]
  },
  {
   "cell_type": "code",
   "execution_count": 10,
   "id": "0aae8cfb",
   "metadata": {},
   "outputs": [],
   "source": [
    "from sklearn.linear_model import LogisticRegression\n",
    "\n",
    "# Initialize the model (for binary classification, default solver is 'lbfgs')\n",
    "logreg_model = LogisticRegression(max_iter=1000)\n",
    "\n",
    "# Fit the model\n",
    "logreg_model.fit(X_train_d, y_train_d)\n",
    "\n",
    "# Predict using the model\n",
    "y_pred_logreg = logreg_model.predict(X_test_d)"
   ]
  },
  {
   "cell_type": "markdown",
   "id": "e4efd12d",
   "metadata": {},
   "source": [
    "### Linear Discriminant Analysis"
   ]
  },
  {
   "cell_type": "code",
   "execution_count": 11,
   "id": "0283ee62",
   "metadata": {},
   "outputs": [],
   "source": [
    "from sklearn.discriminant_analysis import LinearDiscriminantAnalysis\n",
    "\n",
    "# Initialize the model\n",
    "lda_model = LinearDiscriminantAnalysis()\n",
    "\n",
    "# Fit the model\n",
    "lda_model.fit(X_train_d, y_train_d)\n",
    "\n",
    "# Predict using the model\n",
    "y_pred_lda = lda_model.predict(X_test_d)"
   ]
  },
  {
   "cell_type": "markdown",
   "id": "122aa605",
   "metadata": {},
   "source": [
    "### K Nearest Neighbors"
   ]
  },
  {
   "cell_type": "code",
   "execution_count": 12,
   "id": "42d5ebb3",
   "metadata": {},
   "outputs": [],
   "source": [
    "from sklearn.neighbors import KNeighborsClassifier\n",
    "\n",
    "# Initialize the model (n_neighbors controls the number of neighbors to consider)\n",
    "knn_model = KNeighborsClassifier(n_neighbors=5)\n",
    "\n",
    "# Fit the model\n",
    "knn_model.fit(X_train_d, y_train_d)\n",
    "\n",
    "# Predict using the model\n",
    "y_pred_knn = knn_model.predict(X_test_d)"
   ]
  },
  {
   "cell_type": "markdown",
   "id": "5d345ee2",
   "metadata": {},
   "source": [
    "### Classification and Regression Trees (CART)"
   ]
  },
  {
   "cell_type": "code",
   "execution_count": 13,
   "id": "d7bdd2b3",
   "metadata": {},
   "outputs": [],
   "source": [
    "from sklearn.tree import DecisionTreeClassifier\n",
    "\n",
    "# Initialize the model (you can use DecisionTreeRegressor for regression)\n",
    "cart_model = DecisionTreeClassifier()\n",
    "\n",
    "# Fit the model\n",
    "cart_model.fit(X_train_d, y_train_d)\n",
    "\n",
    "# Predict using the model\n",
    "y_pred_cart = cart_model.predict(X_test_d)"
   ]
  },
  {
   "cell_type": "markdown",
   "id": "39033441",
   "metadata": {},
   "source": [
    "## Model Evaluation.\n",
    "In order to evaluate the performance of our classification model, we can make use of confusion matrix to compute a variety of useful metric Other metrics include taking the accuracy_score and the Receiver Operating Characteristic (ROC) curve. \n",
    "\n",
    "The confusion matrix    [tn fp]\n",
    "                        [fn tp]\n",
    "\n",
    "The ROC curve plots the true positive rate against the false positive rate of the model. This tells us the tradeoff between FPR and TPR at different thresholds for our classification. For most classification problems we might decide on 0.5 (if there is 50% chance of predicting a yes), and change it depending on the  circumstances under which we are classifying.\n",
    "\n",
    "The area under curve (AUC) is used to quantify the quality of a test. The model with greater area under the curve is generally the better one.\n",
    "\n",
    "\n",
    "The Naive Baseline that is plotted below is simply flipping a coin on each prediction, so there is a 50% chances of being correct at any point."
   ]
  },
  {
   "cell_type": "code",
   "execution_count": 14,
   "id": "ca0b7371",
   "metadata": {},
   "outputs": [
    {
     "name": "stdout",
     "output_type": "stream",
     "text": [
      "                 Logistic Regression  LDA\n",
      "True Negatives                    90   88\n",
      "False Positives                   12   14\n",
      "False Negatives                   17   18\n",
      "True Positives                    35   34\n"
     ]
    },
    {
     "data": {
      "image/png": "[encoded data removed]",
      "text/plain": [
       "<Figure size 800x600 with 1 Axes>"
      ]
     },
     "metadata": {},
     "output_type": "display_data"
    }
   ],
   "source": [
    "from sklearn.metrics import accuracy_score\n",
    "from sklearn.metrics import roc_curve, auc\n",
    "from sklearn.metrics import confusion_matrix\n",
    "\n",
    "#Logistic Regression\n",
    "y_pred_log = logreg_model.predict(X_test_d)\n",
    "\n",
    "tn_log, fp_log, fn_log, tp_log = confusion_matrix(y_test_d, y_pred_log).ravel()\n",
    "conf_mat_log = pd.DataFrame({'True Negatives': tn_log, 'False Positives': fp_log, 'False Negatives': fn_log, 'True Positives': tp_log}, index=[0])\n",
    "\n",
    "fpr_log, tpr_log, _ = roc_curve(y_test_d, y_pred_log)\n",
    "roc_auc_log = auc(fpr_log, tpr_log)\n",
    "\n",
    "\n",
    "#LDA \n",
    "y_prob_lda = lda_model.predict_proba(X_test_d)\n",
    "\n",
    "tn_lda, fp_lda, fn_lda, tp_lda = confusion_matrix(y_test_d, y_pred_lda).ravel()\n",
    "conf_mat_lda = pd.DataFrame({'True Negatives': tn_lda, 'False Positives': fp_lda, 'False Negatives': fn_lda, 'True Positives': tp_lda}, index=[0])\n",
    "\n",
    "fpr_lda, tpr_lda, _ = roc_curve(y_test_d, y_prob_lda[:,1])\n",
    "roc_auc_lda = auc(fpr_lda, tpr_lda)\n",
    "\n",
    "#Confusion Matrices\n",
    "conf_matrices = pd.DataFrame({'Logistic Regression': conf_mat_log.values.flatten(), 'LDA': conf_mat_lda.values.flatten()}, index=['True Negatives', 'False Positives', 'False Negatives', 'True Positives'])\n",
    "print(conf_matrices)\n",
    "\n",
    "#Plot ROC Curves\n",
    "plt.figure(figsize=(8, 6))\n",
    "plt.title('ROC Curve', fontsize=18)\n",
    "plt.xlabel('FPR', fontsize=16)\n",
    "plt.ylabel('TPR', fontsize=16)\n",
    "plt.xlim([-0.01, 1.00])\n",
    "plt.ylim([-0.01, 1.01])\n",
    "plt.plot(fpr_log, tpr_log, lw=3, label='Logistic Regression (area = {:0.2f})'.format(roc_auc_log))\n",
    "plt.plot(fpr_lda, tpr_lda, lw=3, label='LDA (area = {:0.2f})'.format(roc_auc_lda))\n",
    "plt.plot([0, 1], [0, 1], color='navy', lw=3, linestyle='--', label='Naive Baseline (area = 0.50)')\n",
    "plt.legend(loc='lower right', fontsize=14)\n",
    "plt.show()"
   ]
  },
  {
   "cell_type": "markdown",
   "id": "7e5abec5",
   "metadata": {},
   "source": []
  }
 ],
 "metadata": {
  "kernelspec": {
   "display_name": "base",
   "language": "python",
   "name": "python3"
  },
  "language_info": {
   "codemirror_mode": {
    "name": "ipython",
    "version": 3
   },
   "file_extension": ".py",
   "mimetype": "text/x-python",
   "name": "python",
   "nbconvert_exporter": "python",
   "pygments_lexer": "ipython3",
   "version": "3.12.7"
  }
 },
 "nbformat": 4,
 "nbformat_minor": 5
}
