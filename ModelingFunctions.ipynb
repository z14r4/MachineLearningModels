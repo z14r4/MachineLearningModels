{
 "cells": [
  {
   "cell_type": "code",
   "execution_count": null,
   "id": "ce46eedf-078c-4623-8a94-459ca2eb0173",
   "metadata": {},
   "outputs": [],
   "source": [
    "import numpy as np\n",
    "import pandas as pd\n",
    "import seaborn as sns\n",
    "import matplotlib.pyplot as plt\n",
    "import statsmodels.api as sm\n",
    "\n",
    "from statsmodels.regression.quantile_regression import QuantReg\n",
    "import statsmodels.formula.api as smf\n",
    "\n",
    "from sklearn.model_selection import train_test_split\n",
    "from sklearn.metrics import r2_score, mean_absolute_error\n",
    "from sklearn.metrics import confusion_matrix\n",
    "\n",
    "%matplotlib inline"
   ]
  },
  {
   "cell_type": "markdown",
   "id": "abbf90a5",
   "metadata": {},
   "source": [
    "# Loading Data + Splitting"
   ]
  },
  {
   "cell_type": "code",
   "execution_count": 2,
   "id": "1bdae511-0935-44f6-9a0a-efc11513e54e",
   "metadata": {},
   "outputs": [
    {
     "data": {
      "text/html": [
       "<div>\n",
       "<style scoped>\n",
       "    .dataframe tbody tr th:only-of-type {\n",
       "        vertical-align: middle;\n",
       "    }\n",
       "\n",
       "    .dataframe tbody tr th {\n",
       "        vertical-align: top;\n",
       "    }\n",
       "\n",
       "    .dataframe thead th {\n",
       "        text-align: right;\n",
       "    }\n",
       "</style>\n",
       "<table border=\"1\" class=\"dataframe\">\n",
       "  <thead>\n",
       "    <tr style=\"text-align: right;\">\n",
       "      <th></th>\n",
       "      <th>const</th>\n",
       "      <th>Pregnancies</th>\n",
       "      <th>Glucose</th>\n",
       "      <th>BloodPressure</th>\n",
       "      <th>SkinThickness</th>\n",
       "      <th>Insulin</th>\n",
       "      <th>BMI</th>\n",
       "      <th>DiabetesPedigreeFunction</th>\n",
       "      <th>Age</th>\n",
       "    </tr>\n",
       "  </thead>\n",
       "  <tbody>\n",
       "    <tr>\n",
       "      <th>596</th>\n",
       "      <td>1.0</td>\n",
       "      <td>0</td>\n",
       "      <td>67</td>\n",
       "      <td>76</td>\n",
       "      <td>0</td>\n",
       "      <td>0</td>\n",
       "      <td>45.3</td>\n",
       "      <td>0.194</td>\n",
       "      <td>46</td>\n",
       "    </tr>\n",
       "    <tr>\n",
       "      <th>90</th>\n",
       "      <td>1.0</td>\n",
       "      <td>1</td>\n",
       "      <td>80</td>\n",
       "      <td>55</td>\n",
       "      <td>0</td>\n",
       "      <td>0</td>\n",
       "      <td>19.1</td>\n",
       "      <td>0.258</td>\n",
       "      <td>21</td>\n",
       "    </tr>\n",
       "    <tr>\n",
       "      <th>734</th>\n",
       "      <td>1.0</td>\n",
       "      <td>2</td>\n",
       "      <td>105</td>\n",
       "      <td>75</td>\n",
       "      <td>0</td>\n",
       "      <td>0</td>\n",
       "      <td>23.3</td>\n",
       "      <td>0.560</td>\n",
       "      <td>53</td>\n",
       "    </tr>\n",
       "    <tr>\n",
       "      <th>694</th>\n",
       "      <td>1.0</td>\n",
       "      <td>2</td>\n",
       "      <td>90</td>\n",
       "      <td>60</td>\n",
       "      <td>0</td>\n",
       "      <td>0</td>\n",
       "      <td>23.5</td>\n",
       "      <td>0.191</td>\n",
       "      <td>25</td>\n",
       "    </tr>\n",
       "    <tr>\n",
       "      <th>517</th>\n",
       "      <td>1.0</td>\n",
       "      <td>7</td>\n",
       "      <td>125</td>\n",
       "      <td>86</td>\n",
       "      <td>0</td>\n",
       "      <td>0</td>\n",
       "      <td>37.6</td>\n",
       "      <td>0.304</td>\n",
       "      <td>51</td>\n",
       "    </tr>\n",
       "    <tr>\n",
       "      <th>...</th>\n",
       "      <td>...</td>\n",
       "      <td>...</td>\n",
       "      <td>...</td>\n",
       "      <td>...</td>\n",
       "      <td>...</td>\n",
       "      <td>...</td>\n",
       "      <td>...</td>\n",
       "      <td>...</td>\n",
       "      <td>...</td>\n",
       "    </tr>\n",
       "    <tr>\n",
       "      <th>360</th>\n",
       "      <td>1.0</td>\n",
       "      <td>5</td>\n",
       "      <td>189</td>\n",
       "      <td>64</td>\n",
       "      <td>33</td>\n",
       "      <td>325</td>\n",
       "      <td>31.2</td>\n",
       "      <td>0.583</td>\n",
       "      <td>29</td>\n",
       "    </tr>\n",
       "    <tr>\n",
       "      <th>709</th>\n",
       "      <td>1.0</td>\n",
       "      <td>2</td>\n",
       "      <td>93</td>\n",
       "      <td>64</td>\n",
       "      <td>32</td>\n",
       "      <td>160</td>\n",
       "      <td>38.0</td>\n",
       "      <td>0.674</td>\n",
       "      <td>23</td>\n",
       "    </tr>\n",
       "    <tr>\n",
       "      <th>439</th>\n",
       "      <td>1.0</td>\n",
       "      <td>6</td>\n",
       "      <td>107</td>\n",
       "      <td>88</td>\n",
       "      <td>0</td>\n",
       "      <td>0</td>\n",
       "      <td>36.8</td>\n",
       "      <td>0.727</td>\n",
       "      <td>31</td>\n",
       "    </tr>\n",
       "    <tr>\n",
       "      <th>174</th>\n",
       "      <td>1.0</td>\n",
       "      <td>2</td>\n",
       "      <td>75</td>\n",
       "      <td>64</td>\n",
       "      <td>24</td>\n",
       "      <td>55</td>\n",
       "      <td>29.7</td>\n",
       "      <td>0.370</td>\n",
       "      <td>33</td>\n",
       "    </tr>\n",
       "    <tr>\n",
       "      <th>122</th>\n",
       "      <td>1.0</td>\n",
       "      <td>2</td>\n",
       "      <td>107</td>\n",
       "      <td>74</td>\n",
       "      <td>30</td>\n",
       "      <td>100</td>\n",
       "      <td>33.6</td>\n",
       "      <td>0.404</td>\n",
       "      <td>23</td>\n",
       "    </tr>\n",
       "  </tbody>\n",
       "</table>\n",
       "<p>614 rows × 9 columns</p>\n",
       "</div>"
      ],
      "text/plain": [
       "     const  Pregnancies  Glucose  BloodPressure  SkinThickness  Insulin   BMI  \\\n",
       "596    1.0            0       67             76              0        0  45.3   \n",
       "90     1.0            1       80             55              0        0  19.1   \n",
       "734    1.0            2      105             75              0        0  23.3   \n",
       "694    1.0            2       90             60              0        0  23.5   \n",
       "517    1.0            7      125             86              0        0  37.6   \n",
       "..     ...          ...      ...            ...            ...      ...   ...   \n",
       "360    1.0            5      189             64             33      325  31.2   \n",
       "709    1.0            2       93             64             32      160  38.0   \n",
       "439    1.0            6      107             88              0        0  36.8   \n",
       "174    1.0            2       75             64             24       55  29.7   \n",
       "122    1.0            2      107             74             30      100  33.6   \n",
       "\n",
       "     DiabetesPedigreeFunction  Age  \n",
       "596                     0.194   46  \n",
       "90                      0.258   21  \n",
       "734                     0.560   53  \n",
       "694                     0.191   25  \n",
       "517                     0.304   51  \n",
       "..                        ...  ...  \n",
       "360                     0.583   29  \n",
       "709                     0.674   23  \n",
       "439                     0.727   31  \n",
       "174                     0.370   33  \n",
       "122                     0.404   23  \n",
       "\n",
       "[614 rows x 9 columns]"
      ]
     },
     "execution_count": 2,
     "metadata": {},
     "output_type": "execute_result"
    }
   ],
   "source": [
    "#Import dataset\n",
    "#For this example, we will use the diabetes dataset from the UCI Machine Learning Repository\n",
    "diabetes_data = pd.read_csv(\"142a/Datasets/diabetes_dataset.csv\")\n",
    "\n",
    "#This function will split the dataset into training and testing sets\n",
    "#It will also add a constant to the training and testing sets for the intercept in the regression model\n",
    "#This function also \n",
    "def split(dataset, target_col):\n",
    "    data_train, data_test = train_test_split(dataset, test_size=0.2, random_state=4, shuffle=True)\n",
    "    #X = all columns except what we are trying to predict\n",
    "    #y = column we are trying to predict\n",
    "    X_train = sm.add_constant(data_train.drop(columns=[target_col]))\n",
    "    y_train = data_train[target_col]\n",
    "\n",
    "    X_test = sm.add_constant(data_test.drop(columns=[target_col]))\n",
    "    y_test = data_test[target_col]\n",
    "    return X_train, X_test, y_train, y_test\n",
    "\n",
    "X_train, X_test, y_train, y_testsplit = split(diabetes_data, \"Outcome\")\n",
    "X_train"
   ]
  },
  {
   "cell_type": "markdown",
   "id": "17175475",
   "metadata": {},
   "source": [
    "# VIFs\n",
    "\n",
    "### Multicolinearity\n",
    "- Occurs when two or more predictors are highly correlated\n",
    "- Makes the estimated coefficients $\\hat{\\beta} = (\\hat{\\beta_0}, \\hat{\\beta_1}, \\ldots , \\hat{\\beta_p})$ very sensitive to noise in the training data\n",
    "  - Thus can produce very inaccurate estimates which hurts interpretability and possibly predictive performance\n",
    "- Tell-tale signs:\n",
    "  - Some of the estimated coefficients have the “wrong” sign\n",
    "  - Some of the coefficients are not significantly different from zero\n",
    "- Multicollinearity can usually be fixed by deleting one or more independent variables\n",
    "\n",
    "\n",
    "Higher values of VIF imply that the variable is colinear with other features in the dataset. We can use these values to decide which variables to delete from our model!\n",
    "\n",
    "### Variance Inflation Factor (VIF)\n",
    "Even before we start training or testing a model, we can measure the colinearity \n",
    "\n",
    "- Consider regressing each predictor variable $X_j$ on all of the others:\n",
    "  $$\n",
    "  X_j = \\alpha_0 + \\alpha_1 X_1 + \\ldots + \\alpha_{j-1}X_{j-1} + \\alpha_{j+1}X_{j+1} + \\ldots + \\alpha_p X_p\n",
    "  $$\n",
    "- If the $R^2$ for the above (call it $R^2_j$) is equal to 1, then there exists a perfect linear relationship between $X_j$ \n",
    "  and all other independent variables according to the training data\n",
    "- So, define:\n",
    "  $$\n",
    "  \\text{VIF}_j = \\frac{1}{1 - R^2_j}\n",
    "  $$"
   ]
  },
  {
   "cell_type": "code",
   "execution_count": 3,
   "id": "7c48547b",
   "metadata": {},
   "outputs": [],
   "source": [
    "from statsmodels.stats.outliers_influence import variance_inflation_factor"
   ]
  },
  {
   "cell_type": "code",
   "execution_count": null,
   "id": "0dbf8d2b-6a8f-4935-b5ed-db79cc7924bd",
   "metadata": {},
   "outputs": [],
   "source": [
    "#Look at VIFs for each feature of model\n",
    "def vifs(X_train):\n",
    "    vif_data = pd.DataFrame()\n",
    "    vif_data[\"feature\"] = X_train.columns[1:len(X_train.columns)]  # Exclude the constant column\n",
    "    vif_data[\"VIF\"] = [variance_inflation_factor(X_train.values, i+1) for i in range(6)]\n"
   ]
  },
  {
   "cell_type": "code",
   "execution_count": null,
   "id": "b619a07c",
   "metadata": {},
   "outputs": [],
   "source": []
  },
  {
   "cell_type": "markdown",
   "id": "0267328b",
   "metadata": {},
   "source": [
    "# Creating a Base Model\n",
    "Choose a model and the fit the data to it.\n",
    "The fit() function in both StatsModels and SKLearn is used to train the model based on the data we are passing into it.\n",
    "\n",
    "#### Regression Models:\n",
    "If predicting a continuous response variable. Examples: Housing prices, weather.\n",
    "\n",
    "Ex: Linear Regression, \n",
    "\n",
    "#### Classification Models:\n",
    "If predicting a yes/no outcome. Examples: Identify spam emails, spot cancer cells, \n",
    "\n",
    "Ex: Logistic Regression, K-Nearest Neighbors, "
   ]
  },
  {
   "cell_type": "markdown",
   "id": "8e71e1fc",
   "metadata": {},
   "source": [
    "## Linear Regression\n",
    "\n",
    "Linear Regression can be performed with a few different types of regression models. These include: Ordinary Least Squares, Least Absolute Deviations, Ridge, "
   ]
  },
  {
   "cell_type": "markdown",
   "id": "6f83e2b6",
   "metadata": {},
   "source": [
    "### Ordinary Least Squares"
   ]
  },
  {
   "cell_type": "markdown",
   "id": "0b51cb27",
   "metadata": {},
   "source": [
    "#### Using StatsModels\n",
    "Use StatsModels for explainability & evaluation of our model."
   ]
  },
  {
   "cell_type": "code",
   "execution_count": null,
   "id": "1706ed19",
   "metadata": {},
   "outputs": [
    {
     "name": "stdout",
     "output_type": "stream",
     "text": [
      "                            OLS Regression Results                            \n",
      "==============================================================================\n",
      "Dep. Variable:                Outcome   R-squared:                       0.292\n",
      "Model:                            OLS   Adj. R-squared:                  0.283\n",
      "Method:                 Least Squares   F-statistic:                     31.20\n",
      "Date:                Tue, 01 Apr 2025   Prob (F-statistic):           5.10e-41\n",
      "Time:                        14:56:39   Log-Likelihood:                -311.38\n",
      "No. Observations:                 614   AIC:                             640.8\n",
      "Df Residuals:                     605   BIC:                             680.5\n",
      "Df Model:                           8                                         \n",
      "Covariance Type:            nonrobust                                         \n",
      "============================================================================================\n",
      "                               coef    std err          t      P>|t|      [0.025      0.975]\n",
      "--------------------------------------------------------------------------------------------\n",
      "const                       -0.7952      0.096     -8.286      0.000      -0.984      -0.607\n",
      "Pregnancies                  0.0235      0.006      4.019      0.000       0.012       0.035\n",
      "Glucose                      0.0052      0.001      8.724      0.000       0.004       0.006\n",
      "BloodPressure               -0.0028      0.001     -3.033      0.003      -0.005      -0.001\n",
      "SkinThickness                0.0002      0.001      0.136      0.892      -0.002       0.003\n",
      "Insulin                   -2.15e-05      0.000     -0.125      0.900      -0.000       0.000\n",
      "BMI                          0.0133      0.002      5.870      0.000       0.009       0.018\n",
      "DiabetesPedigreeFunction     0.1868      0.051      3.694      0.000       0.087       0.286\n",
      "Age                          0.0033      0.002      1.886      0.060      -0.000       0.007\n",
      "==============================================================================\n",
      "Omnibus:                       47.594   Durbin-Watson:                   2.017\n",
      "Prob(Omnibus):                  0.000   Jarque-Bera (JB):               27.917\n",
      "Skew:                           0.378   Prob(JB):                     8.67e-07\n",
      "Kurtosis:                       2.278   Cond. No.                     1.09e+03\n",
      "==============================================================================\n",
      "\n",
      "Notes:\n",
      "[1] Standard Errors assume that the covariance matrix of the errors is correctly specified.\n",
      "[2] The condition number is large, 1.09e+03. This might indicate that there are\n",
      "strong multicollinearity or other numerical problems.\n"
     ]
    }
   ],
   "source": [
    "model_sm_ols = sm.OLS(y_train, X_train).fit()\n",
    "print(model_sm_ols.summary())"
   ]
  },
  {
   "cell_type": "markdown",
   "id": "135a75b5",
   "metadata": {},
   "source": [
    "#### Using SciKitLearn\n",
    "Use SciKitLearn for better model accuracy & faster computations."
   ]
  },
  {
   "cell_type": "code",
   "execution_count": 10,
   "id": "64a64025",
   "metadata": {},
   "outputs": [],
   "source": [
    "from sklearn.linear_model import LinearRegression\n",
    "from sklearn.metrics import classification_report\n",
    "\n",
    "model_skl_ols = LinearRegression().fit(X_train, y_train)\n"
   ]
  },
  {
   "cell_type": "markdown",
   "id": "99b1d335",
   "metadata": {},
   "source": [
    "There is no built-in way to analyze your model in SKLearn, but I found a function from StackOverflow that allows you to look at the model the way you would see using StatsModels or R.\n",
    "\n",
    "Link: (https://stackoverflow.com/questions/26319259/how-to-get-a-regression-summary-in-scikit-learn-like-r-does)"
   ]
  },
  {
   "cell_type": "markdown",
   "id": "b2fc4dfc",
   "metadata": {},
   "source": [
    "## Logistic Regression\n",
    "\n",
    "- 1. Classification modeling: logistic regression (`statsmodels`) and Linear Discrimative Analysis (`sklearn.discriminant_analysis`).\n",
    "\n",
    "- 2. Model evaluation: confusion_matrix, accuracy_score, and the ROC curve (`sklearn.metrics`)."
   ]
  },
  {
   "cell_type": "markdown",
   "id": "32a52e24",
   "metadata": {},
   "source": [
    "#### Using StatsModels\n",
    "model_sm_logreg = smf.logit( formula = 'target_col ~ col1 + col2 + col3' + ...,\n",
    "            data = data_train).fit()"
   ]
  },
  {
   "cell_type": "code",
   "execution_count": 14,
   "id": "e554def1",
   "metadata": {},
   "outputs": [
    {
     "name": "stdout",
     "output_type": "stream",
     "text": [
      "Optimization terminated successfully.\n",
      "         Current function value: 0.477877\n",
      "         Iterations 6\n",
      "                           Logit Regression Results                           \n",
      "==============================================================================\n",
      "Dep. Variable:                Outcome   No. Observations:                  614\n",
      "Model:                          Logit   Df Residuals:                      605\n",
      "Method:                           MLE   Df Model:                            8\n",
      "Date:                Tue, 01 Apr 2025   Pseudo R-squ.:                  0.2632\n",
      "Time:                        21:27:21   Log-Likelihood:                -293.42\n",
      "converged:                       True   LL-Null:                       -398.21\n",
      "Covariance Type:            nonrobust   LLR p-value:                 6.089e-41\n",
      "============================================================================================\n",
      "                               coef    std err          z      P>|z|      [0.025      0.975]\n",
      "--------------------------------------------------------------------------------------------\n",
      "Intercept                   -8.1735      0.799    -10.227      0.000      -9.740      -6.607\n",
      "Pregnancies                  0.1374      0.036      3.813      0.000       0.067       0.208\n",
      "Glucose                      0.0311      0.004      7.588      0.000       0.023       0.039\n",
      "BloodPressure               -0.0156      0.006     -2.718      0.007      -0.027      -0.004\n",
      "SkinThickness                0.0006      0.008      0.079      0.937      -0.014       0.016\n",
      "Insulin                     -0.0004      0.001     -0.386      0.700      -0.002       0.002\n",
      "BMI                          0.0916      0.016      5.574      0.000       0.059       0.124\n",
      "DiabetesPedigreeFunction     1.1933      0.331      3.601      0.000       0.544       1.843\n",
      "Age                          0.0195      0.010      1.877      0.060      -0.001       0.040\n",
      "============================================================================================\n"
     ]
    }
   ],
   "source": [
    "X_train_sm = X_train\n",
    "X_train_sm[\"Outcome\"] = y_train\n",
    "model_sm_logreg = smf.logit(formula = 'Outcome ~ Pregnancies + Glucose + BloodPressure + SkinThickness + Insulin + BMI + DiabetesPedigreeFunction + Age',\n",
    "            data = X_train_sm).fit()\n",
    "print(model_sm_logreg.summary())"
   ]
  },
  {
   "cell_type": "markdown",
   "id": "d4b3ae86",
   "metadata": {},
   "source": [
    "#### Using SciKitLearn"
   ]
  },
  {
   "cell_type": "code",
   "execution_count": 12,
   "id": "0aae8cfb",
   "metadata": {},
   "outputs": [],
   "source": [
    "from sklearn.linear_model import LogisticRegression\n",
    "\n",
    "model_skl_logreg = LogisticRegression(max_iter=1000).fit(X_train, y_train)"
   ]
  },
  {
   "cell_type": "markdown",
   "id": "e88ae37a",
   "metadata": {},
   "source": [
    "# Using Model for Predictions\n",
    "\n",
    "Note that so far we have only used our y_train and X_train.\n",
    "After training our model on our data, we can now start using it to make predictions on our test set!"
   ]
  },
  {
   "cell_type": "code",
   "execution_count": null,
   "id": "20ef1147",
   "metadata": {},
   "outputs": [],
   "source": []
  }
 ],
 "metadata": {
  "kernelspec": {
   "display_name": "base",
   "language": "python",
   "name": "python3"
  },
  "language_info": {
   "codemirror_mode": {
    "name": "ipython",
    "version": 3
   },
   "file_extension": ".py",
   "mimetype": "text/x-python",
   "name": "python",
   "nbconvert_exporter": "python",
   "pygments_lexer": "ipython3",
   "version": "3.12.7"
  }
 },
 "nbformat": 4,
 "nbformat_minor": 5
}
